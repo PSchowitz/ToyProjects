{
  "cells": [
    {
      "cell_type": "markdown",
      "metadata": {
        "id": "view-in-github",
        "colab_type": "text"
      },
      "source": [
        "<a href=\"https://colab.research.google.com/github/PSchowitz/ToyProjects/blob/main/CoinFlips.ipynb\" target=\"_parent\"><img src=\"https://colab.research.google.com/assets/colab-badge.svg\" alt=\"Open In Colab\"/></a>"
      ]
    },
    {
      "cell_type": "code",
      "execution_count": 1,
      "metadata": {
        "id": "DLPLOLuUM09t"
      },
      "outputs": [],
      "source": [
        "import numpy as np\n",
        "import matplotlib.pyplot as plt\n",
        "\n",
        "v1, vmin, vrand = [],[],[]\n",
        "\n",
        "for i in range(100000):\n",
        "  thousand = np.random.binomial(10, .5, 1000)/10\n",
        "  v1.append(thousand[0])\n",
        "  vmin.append(np.amin(thousand))\n",
        "  vrand.append(thousand[np.random.randint(0,1000)])"
      ]
    },
    {
      "cell_type": "code",
      "execution_count": 2,
      "metadata": {
        "id": "lFCoyUhbM3QW",
        "outputId": "5d322be0-30ec-4b65-c221-29c717100075",
        "colab": {
          "base_uri": "https://localhost:8080/",
          "height": 317
        }
      },
      "outputs": [
        {
          "output_type": "execute_result",
          "data": {
            "text/plain": [
              "(array([ 1110., 16113., 65420., 11878.,  5479.]),\n",
              " array([0. , 0.2, 0.4, 0.6, 0.8, 1. ]),\n",
              " <a list of 5 Patch objects>)"
            ]
          },
          "metadata": {},
          "execution_count": 2
        },
        {
          "output_type": "display_data",
          "data": {
            "text/plain": [
              "<Figure size 432x288 with 1 Axes>"
            ],
            "image/png": "[encoded data removed]"
          },
          "metadata": {
            "needs_background": "light"
          }
        }
      ],
      "source": [
        "plt.hist(v1,5)"
      ]
    },
    {
      "cell_type": "code",
      "execution_count": 3,
      "metadata": {
        "id": "885fGSvVPnst",
        "outputId": "fb4ef755-d6b0-474a-97ab-82e530f998b0",
        "colab": {
          "base_uri": "https://localhost:8080/",
          "height": 317
        }
      },
      "outputs": [
        {
          "output_type": "execute_result",
          "data": {
            "text/plain": [
              "(array([6.2482e+04, 0.0000e+00, 3.7514e+04, 0.0000e+00, 4.0000e+00]),\n",
              " array([0.  , 0.04, 0.08, 0.12, 0.16, 0.2 ]),\n",
              " <a list of 5 Patch objects>)"
            ]
          },
          "metadata": {},
          "execution_count": 3
        },
        {
          "output_type": "display_data",
          "data": {
            "text/plain": [
              "<Figure size 432x288 with 1 Axes>"
            ],
            "image/png": "[encoded data removed]"
          },
          "metadata": {
            "needs_background": "light"
          }
        }
      ],
      "source": [
        "plt.hist(vmin,5)"
      ]
    },
    {
      "cell_type": "code",
      "execution_count": 4,
      "metadata": {
        "colab": {
          "base_uri": "https://localhost:8080/",
          "height": 317
        },
        "id": "VrVMbfATTTKK",
        "outputId": "6eee736b-b4d1-4b6e-8f67-ac839c9e96ba"
      },
      "outputs": [
        {
          "output_type": "execute_result",
          "data": {
            "text/plain": [
              "(array([ 1067., 16174., 65654., 11736.,  5369.]),\n",
              " array([0. , 0.2, 0.4, 0.6, 0.8, 1. ]),\n",
              " <a list of 5 Patch objects>)"
            ]
          },
          "metadata": {},
          "execution_count": 4
        },
        {
          "output_type": "display_data",
          "data": {
            "text/plain": [
              "<Figure size 432x288 with 1 Axes>"
            ],
            "image/png": "[encoded data removed]"
          },
          "metadata": {
            "needs_background": "light"
          }
        }
      ],
      "source": [
        "plt.hist(vrand,5)"
      ]
    },
    {
      "cell_type": "code",
      "execution_count": 5,
      "metadata": {
        "colab": {
          "base_uri": "https://localhost:8080/",
          "height": 282
        },
        "id": "4OoAnY70XQkj",
        "outputId": "294b5744-b644-44bc-b2e2-7f07e5b30905"
      },
      "outputs": [
        {
          "output_type": "execute_result",
          "data": {
            "text/plain": [
              "[<matplotlib.lines.Line2D at 0x7f1a5f7a1490>]"
            ]
          },
          "metadata": {},
          "execution_count": 5
        },
        {
          "output_type": "display_data",
          "data": {
            "text/plain": [
              "<Figure size 432x288 with 1 Axes>"
            ],
            "image/png": "[encoded data removed]"
          },
          "metadata": {
            "needs_background": "light"
          }
        }
      ],
      "source": [
        "import math\n",
        "\n",
        "v1 = np.array(v1) - .5\n",
        "v1 = abs(v1)\n",
        "\n",
        "epsilon = np.linspace(0, 1, 1000)\n",
        "\n",
        "#Probability of E.in being greater than E.out by epsilon\n",
        "probability = np.zeros(1000)\n",
        "\n",
        "for i in range(1000):\n",
        "  probability[i] = np.sum(v1 > epsilon[i])/100000\n",
        "\n",
        "plt.plot(epsilon, probability, 'r')\n",
        "\n",
        "#Hoeffding bound\n",
        "bound = 2*pow(math.e,-20*(epsilon**2))\n",
        "plt.plot(epsilon, bound, 'b')"
      ]
    },
    {
      "cell_type": "code",
      "execution_count": 6,
      "metadata": {
        "colab": {
          "base_uri": "https://localhost:8080/",
          "height": 300
        },
        "id": "Esg9eaCue1gC",
        "outputId": "fc03d242-38f0-43c5-dc4d-91fdd07abb20"
      },
      "outputs": [
        {
          "output_type": "stream",
          "name": "stdout",
          "text": [
            "[0.4 0.5 0.5 ... 0.5 0.5 0.5]\n"
          ]
        },
        {
          "output_type": "execute_result",
          "data": {
            "text/plain": [
              "[<matplotlib.lines.Line2D at 0x7f1a5f7e3390>]"
            ]
          },
          "metadata": {},
          "execution_count": 6
        },
        {
          "output_type": "display_data",
          "data": {
            "text/plain": [
              "<Figure size 432x288 with 1 Axes>"
            ],
            "image/png": "[encoded data removed]"
          },
          "metadata": {
            "needs_background": "light"
          }
        }
      ],
      "source": [
        "vmin = np.array(vmin) - .5\n",
        "vmin = abs(vmin)\n",
        "\n",
        "print(vmin)\n",
        "\n",
        "epsilon = np.linspace(0, 1, 1000)\n",
        "\n",
        "#Probability of E.in being greater than E.out by epsilon\n",
        "probability = np.zeros(1000)\n",
        "\n",
        "for i in range(1000):\n",
        "  probability[i] = np.sum(vmin > epsilon[i])/100000\n",
        "\n",
        "plt.plot(epsilon, probability, 'r')\n",
        "\n",
        "#Hoeffding bound\n",
        "bound = 2*pow(math.e,-20*(epsilon**2))\n",
        "plt.plot(epsilon, bound, 'b')"
      ]
    },
    {
      "cell_type": "code",
      "execution_count": 7,
      "metadata": {
        "id": "BtHHJ3hybsPL",
        "outputId": "d2298f48-6a82-4042-ed2b-ae5fcddcf20c",
        "colab": {
          "base_uri": "https://localhost:8080/",
          "height": 282
        }
      },
      "outputs": [
        {
          "output_type": "execute_result",
          "data": {
            "text/plain": [
              "[<matplotlib.lines.Line2D at 0x7f1a5fe34ed0>]"
            ]
          },
          "metadata": {},
          "execution_count": 7
        },
        {
          "output_type": "display_data",
          "data": {
            "text/plain": [
              "<Figure size 432x288 with 1 Axes>"
            ],
            "image/png": "[encoded data removed]"
          },
          "metadata": {
            "needs_background": "light"
          }
        }
      ],
      "source": [
        "vrand = np.array(vrand) - .5\n",
        "vrand = abs(vrand)\n",
        "\n",
        "epsilon = np.linspace(0, 1, 1000)\n",
        "\n",
        "#Probability of E.in being greater than E.out by epsilon\n",
        "probability = np.zeros(1000)\n",
        "\n",
        "for i in range(1000):\n",
        "  probability[i] = np.sum(vrand > epsilon[i])/100000\n",
        "\n",
        "plt.plot(epsilon, probability, 'r')\n",
        "\n",
        "#Hoeffding bound\n",
        "bound = 2*pow(math.e,-20*(epsilon**2))\n",
        "plt.plot(epsilon, bound, 'b')"
      ]
    }
  ],
  "metadata": {
    "colab": {
      "provenance": [],
      "include_colab_link": true
    },
    "kernelspec": {
      "display_name": "Python 3",
      "name": "python3"
    },
    "language_info": {
      "name": "python"
    }
  },
  "nbformat": 4,
  "nbformat_minor": 0
}